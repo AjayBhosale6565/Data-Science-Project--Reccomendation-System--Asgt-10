{
 "cells": [
  {
   "cell_type": "code",
   "execution_count": 3,
   "metadata": {},
   "outputs": [],
   "source": [
    "import pandas as pd \n",
    "import numpy as np \n",
    "import matplotlib.pyplot as plt \n",
    "import seaborn as sns"
   ]
  },
  {
   "cell_type": "code",
   "execution_count": 4,
   "metadata": {},
   "outputs": [],
   "source": [
    "books_data = pd.read_csv(r'books.csv')"
   ]
  },
  {
   "cell_type": "code",
   "execution_count": 5,
   "metadata": {},
   "outputs": [
    {
     "data": {
      "text/html": [
       "<div>\n",
       "<style scoped>\n",
       "    .dataframe tbody tr th:only-of-type {\n",
       "        vertical-align: middle;\n",
       "    }\n",
       "\n",
       "    .dataframe tbody tr th {\n",
       "        vertical-align: top;\n",
       "    }\n",
       "\n",
       "    .dataframe thead th {\n",
       "        text-align: right;\n",
       "    }\n",
       "</style>\n",
       "<table border=\"1\" class=\"dataframe\">\n",
       "  <thead>\n",
       "    <tr style=\"text-align: right;\">\n",
       "      <th></th>\n",
       "      <th>Unnamed: 0</th>\n",
       "      <th>User_ID</th>\n",
       "      <th>Book_Title</th>\n",
       "      <th>Book_Rating</th>\n",
       "    </tr>\n",
       "  </thead>\n",
       "  <tbody>\n",
       "    <tr>\n",
       "      <th>0</th>\n",
       "      <td>1</td>\n",
       "      <td>276726</td>\n",
       "      <td>Classical Mythology</td>\n",
       "      <td>5</td>\n",
       "    </tr>\n",
       "    <tr>\n",
       "      <th>1</th>\n",
       "      <td>2</td>\n",
       "      <td>276729</td>\n",
       "      <td>Clara Callan</td>\n",
       "      <td>3</td>\n",
       "    </tr>\n",
       "    <tr>\n",
       "      <th>2</th>\n",
       "      <td>3</td>\n",
       "      <td>276729</td>\n",
       "      <td>Decision in Normandy</td>\n",
       "      <td>6</td>\n",
       "    </tr>\n",
       "    <tr>\n",
       "      <th>3</th>\n",
       "      <td>4</td>\n",
       "      <td>276736</td>\n",
       "      <td>Flu: The Story of the Great Influenza Pandemic...</td>\n",
       "      <td>8</td>\n",
       "    </tr>\n",
       "    <tr>\n",
       "      <th>4</th>\n",
       "      <td>5</td>\n",
       "      <td>276737</td>\n",
       "      <td>The Mummies of Urumchi</td>\n",
       "      <td>6</td>\n",
       "    </tr>\n",
       "    <tr>\n",
       "      <th>...</th>\n",
       "      <td>...</td>\n",
       "      <td>...</td>\n",
       "      <td>...</td>\n",
       "      <td>...</td>\n",
       "    </tr>\n",
       "    <tr>\n",
       "      <th>9995</th>\n",
       "      <td>9996</td>\n",
       "      <td>162121</td>\n",
       "      <td>American Fried: Adventures of a Happy Eater.</td>\n",
       "      <td>7</td>\n",
       "    </tr>\n",
       "    <tr>\n",
       "      <th>9996</th>\n",
       "      <td>9997</td>\n",
       "      <td>162121</td>\n",
       "      <td>Cannibal In Manhattan</td>\n",
       "      <td>9</td>\n",
       "    </tr>\n",
       "    <tr>\n",
       "      <th>9997</th>\n",
       "      <td>9998</td>\n",
       "      <td>162121</td>\n",
       "      <td>How to Flirt: A Practical Guide</td>\n",
       "      <td>7</td>\n",
       "    </tr>\n",
       "    <tr>\n",
       "      <th>9998</th>\n",
       "      <td>9999</td>\n",
       "      <td>162121</td>\n",
       "      <td>Twilight</td>\n",
       "      <td>8</td>\n",
       "    </tr>\n",
       "    <tr>\n",
       "      <th>9999</th>\n",
       "      <td>10000</td>\n",
       "      <td>162129</td>\n",
       "      <td>Kids Say the Darndest Things</td>\n",
       "      <td>6</td>\n",
       "    </tr>\n",
       "  </tbody>\n",
       "</table>\n",
       "<p>10000 rows × 4 columns</p>\n",
       "</div>"
      ],
      "text/plain": [
       "      Unnamed: 0  User_ID                                         Book_Title  \\\n",
       "0              1   276726                                Classical Mythology   \n",
       "1              2   276729                                       Clara Callan   \n",
       "2              3   276729                               Decision in Normandy   \n",
       "3              4   276736  Flu: The Story of the Great Influenza Pandemic...   \n",
       "4              5   276737                             The Mummies of Urumchi   \n",
       "...          ...      ...                                                ...   \n",
       "9995        9996   162121       American Fried: Adventures of a Happy Eater.   \n",
       "9996        9997   162121                              Cannibal In Manhattan   \n",
       "9997        9998   162121                    How to Flirt: A Practical Guide   \n",
       "9998        9999   162121                                           Twilight   \n",
       "9999       10000   162129                       Kids Say the Darndest Things   \n",
       "\n",
       "      Book_Rating  \n",
       "0               5  \n",
       "1               3  \n",
       "2               6  \n",
       "3               8  \n",
       "4               6  \n",
       "...           ...  \n",
       "9995            7  \n",
       "9996            9  \n",
       "9997            7  \n",
       "9998            8  \n",
       "9999            6  \n",
       "\n",
       "[10000 rows x 4 columns]"
      ]
     },
     "execution_count": 5,
     "metadata": {},
     "output_type": "execute_result"
    }
   ],
   "source": [
    "books_data"
   ]
  },
  {
   "cell_type": "code",
   "execution_count": 6,
   "metadata": {},
   "outputs": [
    {
     "data": {
      "text/plain": [
       "(10000, 4)"
      ]
     },
     "execution_count": 6,
     "metadata": {},
     "output_type": "execute_result"
    }
   ],
   "source": [
    "books_data.shape"
   ]
  },
  {
   "cell_type": "code",
   "execution_count": 7,
   "metadata": {},
   "outputs": [
    {
     "data": {
      "text/plain": [
       "Index(['Unnamed: 0', 'User_ID', 'Book_Title', 'Book_Rating'], dtype='object')"
      ]
     },
     "execution_count": 7,
     "metadata": {},
     "output_type": "execute_result"
    }
   ],
   "source": [
    "books_data.columns"
   ]
  },
  {
   "cell_type": "code",
   "execution_count": 8,
   "metadata": {},
   "outputs": [
    {
     "data": {
      "text/html": [
       "<div>\n",
       "<style scoped>\n",
       "    .dataframe tbody tr th:only-of-type {\n",
       "        vertical-align: middle;\n",
       "    }\n",
       "\n",
       "    .dataframe tbody tr th {\n",
       "        vertical-align: top;\n",
       "    }\n",
       "\n",
       "    .dataframe thead th {\n",
       "        text-align: right;\n",
       "    }\n",
       "</style>\n",
       "<table border=\"1\" class=\"dataframe\">\n",
       "  <thead>\n",
       "    <tr style=\"text-align: right;\">\n",
       "      <th></th>\n",
       "      <th>Unnamed: 0</th>\n",
       "      <th>User_ID</th>\n",
       "      <th>Book_Rating</th>\n",
       "    </tr>\n",
       "  </thead>\n",
       "  <tbody>\n",
       "    <tr>\n",
       "      <th>count</th>\n",
       "      <td>10000.00000</td>\n",
       "      <td>10000.000000</td>\n",
       "      <td>10000.00000</td>\n",
       "    </tr>\n",
       "    <tr>\n",
       "      <th>mean</th>\n",
       "      <td>5000.50000</td>\n",
       "      <td>95321.249800</td>\n",
       "      <td>7.56630</td>\n",
       "    </tr>\n",
       "    <tr>\n",
       "      <th>std</th>\n",
       "      <td>2886.89568</td>\n",
       "      <td>117645.703609</td>\n",
       "      <td>1.82152</td>\n",
       "    </tr>\n",
       "    <tr>\n",
       "      <th>min</th>\n",
       "      <td>1.00000</td>\n",
       "      <td>8.000000</td>\n",
       "      <td>1.00000</td>\n",
       "    </tr>\n",
       "    <tr>\n",
       "      <th>25%</th>\n",
       "      <td>2500.75000</td>\n",
       "      <td>2103.000000</td>\n",
       "      <td>7.00000</td>\n",
       "    </tr>\n",
       "    <tr>\n",
       "      <th>50%</th>\n",
       "      <td>5000.50000</td>\n",
       "      <td>3757.000000</td>\n",
       "      <td>8.00000</td>\n",
       "    </tr>\n",
       "    <tr>\n",
       "      <th>75%</th>\n",
       "      <td>7500.25000</td>\n",
       "      <td>162052.000000</td>\n",
       "      <td>9.00000</td>\n",
       "    </tr>\n",
       "    <tr>\n",
       "      <th>max</th>\n",
       "      <td>10000.00000</td>\n",
       "      <td>278854.000000</td>\n",
       "      <td>10.00000</td>\n",
       "    </tr>\n",
       "  </tbody>\n",
       "</table>\n",
       "</div>"
      ],
      "text/plain": [
       "        Unnamed: 0        User_ID  Book_Rating\n",
       "count  10000.00000   10000.000000  10000.00000\n",
       "mean    5000.50000   95321.249800      7.56630\n",
       "std     2886.89568  117645.703609      1.82152\n",
       "min        1.00000       8.000000      1.00000\n",
       "25%     2500.75000    2103.000000      7.00000\n",
       "50%     5000.50000    3757.000000      8.00000\n",
       "75%     7500.25000  162052.000000      9.00000\n",
       "max    10000.00000  278854.000000     10.00000"
      ]
     },
     "execution_count": 8,
     "metadata": {},
     "output_type": "execute_result"
    }
   ],
   "source": [
    "books_data.describe()"
   ]
  },
  {
   "cell_type": "code",
   "execution_count": 15,
   "metadata": {},
   "outputs": [],
   "source": [
    "from sklearn.feature_extraction.text import TfidfVectorizer \n",
    "\n",
    "tfidf = TfidfVectorizer(stop_words=\"english\")"
   ]
  },
  {
   "cell_type": "code",
   "execution_count": 16,
   "metadata": {},
   "outputs": [
    {
     "name": "stdout",
     "output_type": "stream",
     "text": [
      "Unnamed: 0     False\n",
      "User_ID        False\n",
      "Book_Title     False\n",
      "Book_Rating    False\n",
      "dtype: bool\n"
     ]
    }
   ],
   "source": [
    "empty_cell = books_data.isnull().any() \n",
    "print(empty_cell)"
   ]
  },
  {
   "cell_type": "code",
   "execution_count": 17,
   "metadata": {},
   "outputs": [],
   "source": [
    "import os\n",
    "os.chdir(r\"C:\\Users\\LENOVO\\OneDrive\\Desktop\\Data_Science\\Data_Science_Assignment\\DS-Assignment-10-Recc\")"
   ]
  },
  {
   "cell_type": "code",
   "execution_count": 20,
   "metadata": {},
   "outputs": [
    {
     "name": "stdout",
     "output_type": "stream",
     "text": [
      "  (0, 6969)\t0.6798989461050784\n",
      "  (0, 2263)\t0.733305818254024\n",
      "  (1, 1817)\t0.7071067811865476\n",
      "  (1, 2253)\t0.7071067811865476\n",
      "  (2, 7167)\t0.6625534369282937\n",
      "  (2, 2934)\t0.749014648197554\n",
      "  (3, 1997)\t0.37362521359059986\n",
      "  (3, 10887)\t0.37362521359059986\n",
      "  (3, 9022)\t0.2813160805754238\n",
      "  (3, 114)\t0.35770766385737696\n",
      "  (3, 7473)\t0.37362521359059986\n",
      "  (3, 5323)\t0.37362521359059986\n",
      "  (3, 4614)\t0.23030946840620475\n",
      "  (3, 9757)\t0.2046583436772717\n",
      "  (3, 4140)\t0.37362521359059986\n",
      "  (4, 10726)\t0.7071067811865476\n",
      "  (4, 6926)\t0.7071067811865476\n",
      "  (5, 11134)\t0.5741118863839041\n",
      "  (5, 4530)\t0.5301064251194945\n",
      "  (5, 5775)\t0.6240053845598971\n",
      "  (6, 5247)\t0.4702119328617262\n",
      "  (6, 5007)\t0.4911357837677152\n",
      "  (6, 6678)\t0.4702119328617262\n",
      "  (6, 4188)\t0.4911357837677152\n",
      "  (6, 11267)\t0.27454099911420016\n",
      "  :\t:\n",
      "  (9993, 7494)\t0.7043514860336613\n",
      "  (9994, 9701)\t0.4171831630623902\n",
      "  (9994, 11277)\t0.37701826971292507\n",
      "  (9994, 10487)\t0.39940991461887054\n",
      "  (9994, 11296)\t0.3162511319165422\n",
      "  (9994, 6109)\t0.34663470081473363\n",
      "  (9994, 10437)\t0.33513416683083763\n",
      "  (9994, 5056)\t0.2727127110372571\n",
      "  (9994, 9114)\t0.2264921047811197\n",
      "  (9994, 4614)\t0.25715939133111937\n",
      "  (9995, 3444)\t0.5445276383788942\n",
      "  (9995, 4280)\t0.52733560642111\n",
      "  (9995, 4794)\t0.4408669669853471\n",
      "  (9995, 559)\t0.3740528837691166\n",
      "  (9995, 740)\t0.3018734284549289\n",
      "  (9996, 1867)\t0.7729346008644407\n",
      "  (9996, 6359)\t0.6344856994342173\n",
      "  (9997, 4128)\t0.738845744479217\n",
      "  (9997, 7985)\t0.5367939467017678\n",
      "  (9997, 4693)\t0.4073809330949243\n",
      "  (9998, 10569)\t1.0\n",
      "  (9999, 2863)\t0.6198552770699516\n",
      "  (9999, 10187)\t0.43160719521166174\n",
      "  (9999, 8906)\t0.48047412333862766\n",
      "  (9999, 5734)\t0.4456896693126657\n"
     ]
    }
   ],
   "source": [
    "tfidf_matrix_books = tfidf.fit_transform(books_data['Book_Title'])\n",
    "print(tfidf_matrix_books)"
   ]
  },
  {
   "cell_type": "code",
   "execution_count": 34,
   "metadata": {},
   "outputs": [],
   "source": [
    "from sklearn.metrics.pairwise import linear_kernel \n",
    "cosine_sim_matrix = linear_kernel(tfidf_matrix_books, tfidf_matrix_books)"
   ]
  },
  {
   "cell_type": "code",
   "execution_count": 35,
   "metadata": {},
   "outputs": [],
   "source": [
    "book_rating_index = pd.Series(books_data.index,index=books_data['Book_Title']).drop_duplicates() \n"
   ]
  },
  {
   "cell_type": "code",
   "execution_count": 38,
   "metadata": {},
   "outputs": [],
   "source": [
    "def get_book_recommendations(Book_Title, TopN): \n",
    "    \n",
    "    book_id = book_rating_index[Book_Title]\n",
    "    \n",
    "    cosine_scores = list(enumerate(cosine_sim_matrix[book_id]))\n",
    "    \n",
    "    cosine_scores = sorted(cosine_scores,key=lambda x:x[1],reverse = True)\n",
    "    \n",
    "    cosine_scores_topN = cosine_scores[1:TopN+1] \n",
    "    \n",
    "    book_idx = [i[0] for i in cosine_scores_topN] \n",
    "    book_scores = [i[1] for i in cosine_scores_topN] \n",
    "    \n",
    "    books_similar = pd.DataFrame(columns=[\"Book_Title\",\"Score\"]) \n",
    "    books_similar[\"Book_Title\"] = books_data.loc[book_idx,\"Book_Title\"] \n",
    "    \n",
    "    books_similar[\"Score\"] = book_scores \n",
    "    \n",
    "    return books_similar"
   ]
  },
  {
   "cell_type": "code",
   "execution_count": 39,
   "metadata": {},
   "outputs": [
    {
     "name": "stdout",
     "output_type": "stream",
     "text": [
      "                                           Book_Title  Score\n",
      "0                                 Classical Mythology    0.0\n",
      "1                                        Clara Callan    0.0\n",
      "2                                Decision in Normandy    0.0\n",
      "3   Flu: The Story of the Great Influenza Pandemic...    0.0\n",
      "5                              The Kitchen God's Wife    0.0\n",
      "6   What If?: The World's Foremost Military Histor...    0.0\n",
      "7                                     PLEADING GUILTY    0.0\n",
      "8   Under the Black Flag: The Romance and the Real...    0.0\n",
      "9             Where You'll Find Me: And Other Stories    0.0\n",
      "10                        Nights Below Station Street    0.0\n",
      "11  Hitler's Secret Bankers: The Myth of Swiss Neu...    0.0\n",
      "12                                 The Middle Stories    0.0\n",
      "13                                           Jane Doe    0.0\n",
      "14  A Second Chicken Soup for the Woman's Soul (Ch...    0.0\n",
      "15       The Witchfinder (Amos Walker Mystery Series)    0.0\n"
     ]
    }
   ],
   "source": [
    "book_reccomendations = get_book_recommendations(\"The Mummies of Urumchi\", TopN=15)\n",
    "print(book_reccomendations)"
   ]
  },
  {
   "cell_type": "code",
   "execution_count": 40,
   "metadata": {},
   "outputs": [
    {
     "name": "stdout",
     "output_type": "stream",
     "text": [
      "                                             Book_Title     Score\n",
      "8621                                        A.K.A. Jane  0.609662\n",
      "3323                                          Jane Eyre  0.404229\n",
      "9992                              The Evolution of Jane  0.389248\n",
      "4894  Jane and the Wandering Eye: Being the Third Ja...  0.387258\n",
      "6974                       Jane Eyre (Penguin Classics)  0.327441\n",
      "3476                        Jane Eyre (Bantam Classics)  0.316685\n",
      "2701                      See Jane Score (Avon Romance)  0.303790\n",
      "9841                       Jane Austen in Boca: A Novel  0.296293\n",
      "5642              Jane Eyre (Everyman's Library Series)  0.281568\n",
      "3666             The Autobiography of Miss Jane Pittman  0.280074\n",
      "8620                                       Run Jane Run  0.272649\n",
      "7470          See Jane Date (Red Dress Ink (Paperback))  0.263435\n",
      "228   Patty Jane's House of Curl (Ballantine Reader'...  0.226709\n",
      "1396  No Eye Can See (Kirkpatrick, Jane, Kinship and...  0.209439\n",
      "7917  The Sense and Sensibility: Screenplay &amp; Di...  0.189222\n"
     ]
    }
   ],
   "source": [
    "book_reccomendations = get_book_recommendations(\"Jane Doe\", TopN=15)\n",
    "print(book_reccomendations)"
   ]
  },
  {
   "cell_type": "code",
   "execution_count": 41,
   "metadata": {},
   "outputs": [
    {
     "name": "stdout",
     "output_type": "stream",
     "text": [
      "                                      Book_Title     Score\n",
      "7325                   We Remember the Holocaust  0.281615\n",
      "4521                                      Secret  0.263159\n",
      "8490                               Adolf, Hitler  0.258054\n",
      "8531                                Adolf Hitler  0.258054\n",
      "1311            Myth-Ion Improbable (Myth Books)  0.241851\n",
      "5257                           Another Fine Myth  0.222015\n",
      "1414     The Power of Myth (Illustrated Edition)  0.189353\n",
      "9471                   The Great and Secret Show  0.188479\n",
      "249                               Secret History  0.187214\n",
      "1913                              Secret History  0.187214\n",
      "5241                         Secret History, The  0.187214\n",
      "5298                          The Secret History  0.187214\n",
      "9454  I Myself Have Seen It: The Myth of Hawai'i  0.175326\n",
      "3759                           The Secret Garden  0.168611\n",
      "3374                The Secret (Animorphs, No 9)  0.164709\n"
     ]
    }
   ],
   "source": [
    "book_reccomendations = get_book_recommendations(\"Hitler's Secret Bankers: The Myth of Swiss Neutrality During the Holocaust\", TopN=15)\n",
    "print(book_reccomendations)"
   ]
  },
  {
   "cell_type": "code",
   "execution_count": null,
   "metadata": {},
   "outputs": [],
   "source": []
  }
 ],
 "metadata": {
  "kernelspec": {
   "display_name": "Python 3",
   "language": "python",
   "name": "python3"
  },
  "language_info": {
   "codemirror_mode": {
    "name": "ipython",
    "version": 3
   },
   "file_extension": ".py",
   "mimetype": "text/x-python",
   "name": "python",
   "nbconvert_exporter": "python",
   "pygments_lexer": "ipython3",
   "version": "3.12.0"
  }
 },
 "nbformat": 4,
 "nbformat_minor": 2
}
